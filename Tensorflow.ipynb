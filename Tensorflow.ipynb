{
 "cells": [
  {
   "cell_type": "markdown",
   "id": "303fd2dc-58c4-465d-9c3a-c0a5ddb11ae5",
   "metadata": {},
   "source": [
    "# Tensorflow \n",
    "> Tensor -----> mutli-dimension array (like numpy array )\n"
   ]
  },
  {
   "cell_type": "raw",
   "id": "9675b9ab-5254-429e-af47-bddb2335ed06",
   "metadata": {},
   "source": [
    "Why tensor array?\n",
    " > faster operations as compared to numpy \n",
    " > because tensor array support to numpy array \n",
    "\n",
    "flow-----> graph of operations"
   ]
  },
  {
   "cell_type": "raw",
   "id": "34b8b172-f74c-4ed4-8ab8-1004916d69a1",
   "metadata": {},
   "source": [
    "> numpy array doesnot support the model training but tensor "
   ]
  },
  {
   "cell_type": "raw",
   "id": "d142c175-6b50-406d-aaac-05a292e72c0d",
   "metadata": {},
   "source": [
    "sklearn does not support the GPU , only works with CPU\n",
    "\n",
    "tensorflow support GPU "
   ]
  },
  {
   "cell_type": "raw",
   "id": "76bca9d0-e3af-42d2-a476-6fd3f803caa4",
   "metadata": {},
   "source": [
    "Types of tensor array (based on dim):\n",
    "    > 0-dim/rank tensor   - scalar\n",
    "    > 1-dim/rank tensor   - vector\n",
    "    > 2-dim/rank tensor   - matrix\n",
    "    "
   ]
  },
  {
   "cell_type": "markdown",
   "id": "95039cc2-d538-443b-b9d9-6ac77d5e1def",
   "metadata": {},
   "source": [
    "Types of tensor (based on mutability):\n",
    "    > Variable tensor ----> mutable\n",
    "    > constant tensor ----->immutable"
   ]
  },
  {
   "cell_type": "code",
   "execution_count": null,
   "id": "5ffa492a-699f-46ce-b64d-051e29979591",
   "metadata": {},
   "outputs": [],
   "source": [
    "# pip install tensorflow"
   ]
  },
  {
   "cell_type": "code",
   "execution_count": 1,
   "id": "fd76a5a0-ee9d-4702-9fa8-e50267a6090e",
   "metadata": {},
   "outputs": [],
   "source": [
    "import tensorflow as tf"
   ]
  },
  {
   "cell_type": "code",
   "execution_count": 2,
   "id": "6fd8803c-c658-49c2-8b6d-bab59b04d504",
   "metadata": {},
   "outputs": [
    {
     "name": "stdout",
     "output_type": "stream",
     "text": [
      "<tf.Variable 'Variable:0' shape=() dtype=int32, numpy=10>\n"
     ]
    }
   ],
   "source": [
    "t=tf.Variable(10)\n",
    "print(t)"
   ]
  },
  {
   "cell_type": "code",
   "execution_count": 8,
   "id": "ab4fd457-ccc1-4e62-a273-61fdcf0aa4d5",
   "metadata": {},
   "outputs": [
    {
     "name": "stdout",
     "output_type": "stream",
     "text": [
      "<tf.Variable 'myscalar:0' shape=() dtype=float32, numpy=10.0>\n"
     ]
    }
   ],
   "source": [
    "t=tf.Variable(10,name='myscalar',dtype='float')\n",
    "print(t)"
   ]
  },
  {
   "cell_type": "code",
   "execution_count": 9,
   "id": "0739846a-bbd2-4f91-903e-a0617bc8de8f",
   "metadata": {},
   "outputs": [
    {
     "name": "stdout",
     "output_type": "stream",
     "text": [
      "10.0\n"
     ]
    }
   ],
   "source": [
    "print(t.numpy())            # userfriendly"
   ]
  },
  {
   "cell_type": "code",
   "execution_count": 5,
   "id": "0838fa0a-d0a0-4d5f-b7e3-ba9c8b1c1245",
   "metadata": {},
   "outputs": [
    {
     "name": "stdout",
     "output_type": "stream",
     "text": [
      "3\n"
     ]
    }
   ],
   "source": [
    "t=tf.Variable([10,20,30.5])\n",
    "print(t.numpy().size)"
   ]
  },
  {
   "cell_type": "code",
   "execution_count": 6,
   "id": "249485fa-5f9d-4770-9b74-050b0a1fbb53",
   "metadata": {},
   "outputs": [
    {
     "name": "stdout",
     "output_type": "stream",
     "text": [
      "<tf.Variable 'Variable:0' shape=(2, 2) dtype=int32, numpy=\n",
      "array([[10, 20],\n",
      "       [30, 40]])>\n",
      "[[10 20]\n",
      " [30 40]]\n",
      "(2, 2)\n",
      "4\n"
     ]
    }
   ],
   "source": [
    "t=tf.Variable([[10,20],[30,40]])\n",
    "print(t)\n",
    "print(t.numpy())\n",
    "print(t.shape)\n",
    "print(t.numpy().size)"
   ]
  },
  {
   "cell_type": "code",
   "execution_count": 10,
   "id": "5b2b5d25-2af0-4e12-bb0e-6193280116b7",
   "metadata": {},
   "outputs": [
    {
     "name": "stdout",
     "output_type": "stream",
     "text": [
      "tf.Tensor(\n",
      "[[10 20]\n",
      " [30 40]], shape=(2, 2), dtype=int32)\n"
     ]
    }
   ],
   "source": [
    "t=tf.constant([[10,20],[30,40]])\n",
    "print(t)"
   ]
  },
  {
   "cell_type": "raw",
   "id": "ec6491dd-8f75-46cc-aca7-e77bc23eecba",
   "metadata": {},
   "source": [
    "Variable is a class in tensor and constant is a funtion in tensor"
   ]
  },
  {
   "cell_type": "code",
   "execution_count": 11,
   "id": "cea6d09f-e807-4a52-9972-7e50ad23e292",
   "metadata": {},
   "outputs": [
    {
     "name": "stdout",
     "output_type": "stream",
     "text": [
      "[[10 20]\n",
      " [30 40]]\n"
     ]
    }
   ],
   "source": [
    "print(t.numpy())"
   ]
  },
  {
   "cell_type": "code",
   "execution_count": 12,
   "id": "23888f5f-6be8-4a21-b384-ea2c0155d26d",
   "metadata": {},
   "outputs": [
    {
     "name": "stdout",
     "output_type": "stream",
     "text": [
      "tf.Tensor(10, shape=(), dtype=int32)\n"
     ]
    }
   ],
   "source": [
    "t=tf.constant(10)\n",
    "print(t)"
   ]
  },
  {
   "cell_type": "code",
   "execution_count": 15,
   "id": "695a1357-80cd-4994-9c20-010e220c0df5",
   "metadata": {},
   "outputs": [
    {
     "data": {
      "text/plain": [
       "<tf.Tensor: shape=(), dtype=int32, numpy=50>"
      ]
     },
     "execution_count": 15,
     "metadata": {},
     "output_type": "execute_result"
    }
   ],
   "source": [
    "t*5   # new copy"
   ]
  },
  {
   "cell_type": "code",
   "execution_count": 14,
   "id": "a9458ee2-bbef-4cf6-9c71-5c15da254754",
   "metadata": {},
   "outputs": [
    {
     "name": "stdout",
     "output_type": "stream",
     "text": [
      "tf.Tensor(10, shape=(), dtype=int32)\n"
     ]
    }
   ],
   "source": [
    "print(t)"
   ]
  },
  {
   "cell_type": "code",
   "execution_count": 16,
   "id": "18be2cb3-28f9-4c0e-9279-14509a99a8f0",
   "metadata": {},
   "outputs": [
    {
     "name": "stdout",
     "output_type": "stream",
     "text": [
      "tf.Tensor([10 20 30], shape=(3,), dtype=int32)\n"
     ]
    }
   ],
   "source": [
    "t=tf.constant([10,20,30])\n",
    "print(t)"
   ]
  },
  {
   "cell_type": "code",
   "execution_count": 17,
   "id": "d31b1fbf-ff88-4812-8fc2-f37153fa1e4e",
   "metadata": {},
   "outputs": [
    {
     "name": "stdout",
     "output_type": "stream",
     "text": [
      "tf.Tensor(10, shape=(), dtype=int32)\n"
     ]
    }
   ],
   "source": [
    "print(t[0])"
   ]
  },
  {
   "cell_type": "code",
   "execution_count": 18,
   "id": "69949f8c-9d05-4968-b71a-aea93e199960",
   "metadata": {},
   "outputs": [
    {
     "ename": "TypeError",
     "evalue": "'tensorflow.python.framework.ops.EagerTensor' object does not support item assignment",
     "output_type": "error",
     "traceback": [
      "\u001b[1;31m---------------------------------------------------------------------------\u001b[0m",
      "\u001b[1;31mTypeError\u001b[0m                                 Traceback (most recent call last)",
      "Cell \u001b[1;32mIn [18], line 2\u001b[0m\n\u001b[0;32m      1\u001b[0m \u001b[38;5;66;03m# when try to assign a value \u001b[39;00m\n\u001b[1;32m----> 2\u001b[0m \u001b[43mt\u001b[49m\u001b[43m[\u001b[49m\u001b[38;5;241;43m0\u001b[39;49m\u001b[43m]\u001b[49m\u001b[38;5;241m=\u001b[39m\u001b[38;5;241m12\u001b[39m\n",
      "\u001b[1;31mTypeError\u001b[0m: 'tensorflow.python.framework.ops.EagerTensor' object does not support item assignment"
     ]
    }
   ],
   "source": [
    "# when try to assign a value \n",
    "t[0]=12"
   ]
  },
  {
   "cell_type": "code",
   "execution_count": 29,
   "id": "42697680-61f9-4ec3-871a-acadcb3d97bb",
   "metadata": {},
   "outputs": [
    {
     "name": "stdout",
     "output_type": "stream",
     "text": [
      "<tf.Variable 'Variable:0' shape=() dtype=int32, numpy=10>\n"
     ]
    }
   ],
   "source": [
    "t=tf.Variable(10)\n",
    "print(t)"
   ]
  },
  {
   "cell_type": "code",
   "execution_count": 30,
   "id": "62bec4bc-46cf-47b5-b9c8-c99e6204aa57",
   "metadata": {},
   "outputs": [],
   "source": [
    "#t[0]=12"
   ]
  },
  {
   "cell_type": "code",
   "execution_count": 31,
   "id": "53dc6520-8044-42ec-8e33-9fc4e9daaf0d",
   "metadata": {},
   "outputs": [
    {
     "data": {
      "text/plain": [
       "<tf.Variable 'UnreadVariable' shape=() dtype=int32, numpy=12>"
      ]
     },
     "execution_count": 31,
     "metadata": {},
     "output_type": "execute_result"
    }
   ],
   "source": [
    "t.assign(12)"
   ]
  },
  {
   "cell_type": "code",
   "execution_count": 32,
   "id": "de0a8827-a983-44ab-94fb-dffe931e7e38",
   "metadata": {},
   "outputs": [],
   "source": [
    "import tensorflow as tf"
   ]
  },
  {
   "cell_type": "code",
   "execution_count": 33,
   "id": "89b4ba85-ef3a-4bc4-bdf8-898031b9dc0a",
   "metadata": {},
   "outputs": [
    {
     "name": "stdout",
     "output_type": "stream",
     "text": [
      "tf.Tensor([-0.55325097  1.867158   -1.354492   -2.3578808   0.12716755], shape=(5,), dtype=float32)\n"
     ]
    }
   ],
   "source": [
    "t=tf.random.normal(shape=(5,))     # mean=0, std=1 returns constant like tensor\n",
    "print(t)"
   ]
  },
  {
   "cell_type": "code",
   "execution_count": 34,
   "id": "994252b3-17d7-419d-a699-dde3a3641b34",
   "metadata": {},
   "outputs": [
    {
     "name": "stdout",
     "output_type": "stream",
     "text": [
      "tf.Tensor(\n",
      "[[-1.8624078  -0.45330966  0.48219132]\n",
      " [ 0.29508096 -0.57185715  0.38419536]\n",
      " [-0.5009357   0.6367704  -0.6805105 ]\n",
      " [ 2.4214542   0.0086776   0.4908125 ]\n",
      " [-0.09741662  0.12668055  0.18884274]], shape=(5, 3), dtype=float32)\n"
     ]
    }
   ],
   "source": [
    "t=tf.random.normal(shape=(5,3))       # mean=0, std=1 returns constant like tensor\n",
    "print(t)"
   ]
  },
  {
   "cell_type": "code",
   "execution_count": 35,
   "id": "ff80d005-d2a6-4385-a865-286245f0b9e2",
   "metadata": {},
   "outputs": [
    {
     "name": "stdout",
     "output_type": "stream",
     "text": [
      "tf.Tensor([-0.7061728   0.3798026   0.8393617  -0.48514012  0.8898756 ], shape=(5,), dtype=float32)\n"
     ]
    }
   ],
   "source": [
    "t=tf.random.truncated_normal(shape=(5,))  # mean=0, std=1 ,values must be with in 2std of mean\n",
    "print(t)"
   ]
  },
  {
   "cell_type": "code",
   "execution_count": 36,
   "id": "3eddacfc-c9af-46f6-bf7d-532c2bc47aaf",
   "metadata": {},
   "outputs": [
    {
     "name": "stdout",
     "output_type": "stream",
     "text": [
      "tf.Tensor(\n",
      "[[ 0.15572949  0.7006498  -0.73870516]\n",
      " [ 0.6128455   0.05866168  0.60226995]\n",
      " [ 0.38284242 -0.10058033  1.890474  ]\n",
      " [-0.4779146   0.32186764 -0.34674844]\n",
      " [ 1.2044461  -1.0104126  -1.6739926 ]], shape=(5, 3), dtype=float32)\n"
     ]
    }
   ],
   "source": [
    "t=tf.random.truncated_normal(shape=(5,3))  # mean=0, std=1 ,values must be with in 2std of mean\n",
    "print(t)"
   ]
  },
  {
   "cell_type": "code",
   "execution_count": 37,
   "id": "908b0f1b-4730-4611-ab34-a127380517b2",
   "metadata": {},
   "outputs": [
    {
     "name": "stdout",
     "output_type": "stream",
     "text": [
      "tf.Tensor([0.80912566 0.4644549  0.33807003 0.46110868 0.42201316], shape=(5,), dtype=float32)\n"
     ]
    }
   ],
   "source": [
    "t=tf.random.uniform(shape=(5,)) # min=0, max=1, return constant like tensor from uniform dist\n",
    "print(t)"
   ]
  },
  {
   "cell_type": "code",
   "execution_count": 38,
   "id": "468d54a1-1612-4e12-b38c-c547759d0e11",
   "metadata": {},
   "outputs": [
    {
     "name": "stdout",
     "output_type": "stream",
     "text": [
      "tf.Tensor([5.1288896 8.393087  5.810673  5.233295  7.188408 ], shape=(5,), dtype=float32)\n"
     ]
    }
   ],
   "source": [
    "t=tf.random.uniform(shape=(5,), minval=5, maxval=10) # min=0, max=1, return constant like tensor from uniform dist\n",
    "print(t)"
   ]
  },
  {
   "cell_type": "code",
   "execution_count": 41,
   "id": "8312cc47-a868-4bcf-b4f6-13491108d463",
   "metadata": {},
   "outputs": [
    {
     "name": "stdout",
     "output_type": "stream",
     "text": [
      "tf.Tensor(\n",
      "[[56 69 28]\n",
      " [36 27 21]\n",
      " [71 21 53]], shape=(3, 3), dtype=int32)\n"
     ]
    }
   ],
   "source": [
    "t=tf.random.uniform(shape=(3,3),minval=5,maxval=100 , dtype=tf.int32) # min=0, max=1, return constant like tensor from uniform dist\n",
    "print(t)"
   ]
  },
  {
   "cell_type": "code",
   "execution_count": 42,
   "id": "5142a895-8dcf-4769-9b18-dedfa7891f3e",
   "metadata": {},
   "outputs": [
    {
     "name": "stdout",
     "output_type": "stream",
     "text": [
      "tf.Tensor([16  4 78 68 73  9 77 80  3  2], shape=(10,), dtype=int32)\n"
     ]
    }
   ],
   "source": [
    "t=tf.random.uniform(shape=(10,),minval=1,maxval=100 , dtype=tf.int32) # min=0, max=1, return constant like tensor from uniform dist\n",
    "print(t)"
   ]
  },
  {
   "cell_type": "code",
   "execution_count": 43,
   "id": "40363d2a-9e7b-4c72-8ac8-933c67bbbd1a",
   "metadata": {},
   "outputs": [
    {
     "name": "stdout",
     "output_type": "stream",
     "text": [
      "tf.Tensor(80, shape=(), dtype=int32)\n"
     ]
    }
   ],
   "source": [
    "# when we want to find the max element in our tensor\n",
    "print(tf.math.reduce_max(t))"
   ]
  },
  {
   "cell_type": "code",
   "execution_count": 44,
   "id": "0e8b5368-5b28-4f8c-807b-fa1bcdf2cb20",
   "metadata": {},
   "outputs": [
    {
     "name": "stdout",
     "output_type": "stream",
     "text": [
      "tf.Tensor(80, shape=(), dtype=int32)\n",
      "tf.Tensor(7, shape=(), dtype=int64)\n",
      "tf.Tensor(2, shape=(), dtype=int32)\n",
      "tf.Tensor(9, shape=(), dtype=int64)\n",
      "tf.Tensor(41, shape=(), dtype=int32)\n",
      "tf.Tensor(410, shape=(), dtype=int32)\n"
     ]
    }
   ],
   "source": [
    "print(tf.math.reduce_max(t))\n",
    "print(tf.math.argmax(t))\n",
    "print(tf.math.reduce_min(t))\n",
    "print(tf.math.argmin(t))\n",
    "print(tf.math.reduce_mean(t))\n",
    "print(tf.math.reduce_sum(t))"
   ]
  },
  {
   "cell_type": "code",
   "execution_count": 45,
   "id": "534272d7-58cf-418b-bb18-0b3689fe41d4",
   "metadata": {},
   "outputs": [
    {
     "name": "stdout",
     "output_type": "stream",
     "text": [
      "tf.Tensor(\n",
      "[[79 54 34]\n",
      " [65 46 30]\n",
      " [34 91 91]], shape=(3, 3), dtype=int32)\n"
     ]
    }
   ],
   "source": [
    "t1=tf.random.uniform(shape=(3,3),minval=1,maxval=100,dtype=tf.int32) #returns constant like tensor from uniform dist\n",
    "print(t1)"
   ]
  },
  {
   "cell_type": "code",
   "execution_count": 46,
   "id": "69b34a77-9b6f-4574-a186-fc74ea03cfbc",
   "metadata": {},
   "outputs": [
    {
     "name": "stdout",
     "output_type": "stream",
     "text": [
      "tf.Tensor(\n",
      "[[73 43  5]\n",
      " [52 34 75]\n",
      " [89 51 73]], shape=(3, 3), dtype=int32)\n"
     ]
    }
   ],
   "source": [
    "t2=tf.random.uniform(shape=(3,3),minval=1,maxval=100,dtype=tf.int32) #returns constant like tensor from uniform dist\n",
    "print(t2)"
   ]
  },
  {
   "cell_type": "code",
   "execution_count": 47,
   "id": "ed867806-fb08-4268-ae58-7dc60812a959",
   "metadata": {},
   "outputs": [
    {
     "data": {
      "text/plain": [
       "<tf.Tensor: shape=(3, 3), dtype=int32, numpy=\n",
       "array([[11601,  6967,  6927],\n",
       "       [ 9807,  5889,  5965],\n",
       "       [15313,  9197, 13638]])>"
      ]
     },
     "execution_count": 47,
     "metadata": {},
     "output_type": "execute_result"
    }
   ],
   "source": [
    "tf.matmul(t1,t2)"
   ]
  },
  {
   "cell_type": "code",
   "execution_count": 48,
   "id": "4d410d48-f766-4af9-9f56-dd3d955b0751",
   "metadata": {},
   "outputs": [
    {
     "data": {
      "text/plain": [
       "<tf.Tensor: shape=(3, 3), dtype=int32, numpy=\n",
       "array([[11601,  6967,  6927],\n",
       "       [ 9807,  5889,  5965],\n",
       "       [15313,  9197, 13638]])>"
      ]
     },
     "execution_count": 48,
     "metadata": {},
     "output_type": "execute_result"
    }
   ],
   "source": [
    "t1@t2"
   ]
  },
  {
   "cell_type": "code",
   "execution_count": null,
   "id": "ecfedba3-3173-4e7d-8781-ce809971f4b1",
   "metadata": {},
   "outputs": [],
   "source": []
  }
 ],
 "metadata": {
  "kernelspec": {
   "display_name": "Python 3 (ipykernel)",
   "language": "python",
   "name": "python3"
  },
  "language_info": {
   "codemirror_mode": {
    "name": "ipython",
    "version": 3
   },
   "file_extension": ".py",
   "mimetype": "text/x-python",
   "name": "python",
   "nbconvert_exporter": "python",
   "pygments_lexer": "ipython3",
   "version": "3.10.8"
  }
 },
 "nbformat": 4,
 "nbformat_minor": 5
}
